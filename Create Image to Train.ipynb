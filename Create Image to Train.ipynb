{
 "cells": [
  {
   "cell_type": "code",
   "execution_count": 1,
   "id": "71d0d75e",
   "metadata": {},
   "outputs": [],
   "source": [
    "import cv2"
   ]
  },
  {
   "cell_type": "code",
   "execution_count": 2,
   "id": "a7478bf0",
   "metadata": {},
   "outputs": [],
   "source": [
    "import uuid \n",
    "# Uuid :- to create a unique identifier for each image that"
   ]
  },
  {
   "cell_type": "markdown",
   "id": "0be591f8",
   "metadata": {},
   "source": [
    "next what we need to do is create a\n",
    "video capture device so this is going to\n",
    "allow us to capture images\n",
    "using our webcam"
   ]
  },
  {
   "cell_type": "code",
   "execution_count": 3,
   "id": "63321285",
   "metadata": {},
   "outputs": [],
   "source": [
    "# creating a video capture object\n",
    "cap = cv2.VideoCapture(0)\n",
    "width = int(cap.get(cv2.CAP_PROP_FRAME_WIDTH))\n",
    "height = int(cap.get(cv2.CAP_PROP_FRAME_HEIGHT))\n"
   ]
  },
  {
   "cell_type": "code",
   "execution_count": 4,
   "id": "422ba310",
   "metadata": {},
   "outputs": [],
   "source": [
    "while True:\n",
    "    ret,frame = cap.read()\n",
    "    imgname='./Images/AllImages/{}.jpg'.format(str(uuid.uuid1()))\n",
    "    cv2.imshow(\"frame\",frame)\n",
    "    cv2.imwrite() #method is used to save an image to any storage device. This will save the image according to the \n",
    "    #specified format in current working directory.\n",
    "    #wait 20 ms between successive frames and break the loop if key q is pressed\n",
    "    cv2.waitKey(5000)\n",
    "    if cv2.waitKey(1) & 0xFF == ord('q'):\n",
    "        break"
   ]
  },
  {
   "cell_type": "code",
   "execution_count": 5,
   "id": "6c6bc38a",
   "metadata": {},
   "outputs": [],
   "source": [
    "# Release the video capture object\n",
    "cap.release()\n",
    "cv2.destroyAllWindows()\n"
   ]
  },
  {
   "cell_type": "code",
   "execution_count": null,
   "id": "0aad548e",
   "metadata": {},
   "outputs": [],
   "source": []
  },
  {
   "cell_type": "code",
   "execution_count": null,
   "id": "5d9fe8c7",
   "metadata": {},
   "outputs": [],
   "source": []
  }
 ],
 "metadata": {
  "kernelspec": {
   "display_name": "Python 3 (ipykernel)",
   "language": "python",
   "name": "python3"
  },
  "language_info": {
   "codemirror_mode": {
    "name": "ipython",
    "version": 3
   },
   "file_extension": ".py",
   "mimetype": "text/x-python",
   "name": "python",
   "nbconvert_exporter": "python",
   "pygments_lexer": "ipython3",
   "version": "3.7.13"
  }
 },
 "nbformat": 4,
 "nbformat_minor": 5
}
